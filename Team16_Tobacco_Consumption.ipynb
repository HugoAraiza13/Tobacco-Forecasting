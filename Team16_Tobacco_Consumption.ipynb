{
  "nbformat": 4,
  "nbformat_minor": 0,
  "metadata": {
    "colab": {
      "name": "Team16_Tobacco_Consumption.ipynb",
      "provenance": [],
      "collapsed_sections": []
    },
    "kernelspec": {
      "name": "python3",
      "display_name": "Python 3"
    },
    "language_info": {
      "name": "python"
    }
  },
  "cells": [
    {
      "cell_type": "markdown",
      "source": [
        "# **Tobacco Consumption in the United States: Data Analysis and Forecasting**\n",
        "\n",
        "Team 16\\\n",
        "Ana Vargas\\\n",
        "Hugo Campos\\\n",
        "Jorge Hugo Araiza\\\n",
        "Pablo  Vera Terán\\\n",
        "Last Update: March 06, 2022\n"
      ],
      "metadata": {
        "id": "VlX_El7b_Nbl"
      }
    },
    {
      "cell_type": "markdown",
      "source": [
        "## **Introduction**\n",
        "\n",
        "---\n",
        "\n"
      ],
      "metadata": {
        "id": "lzUZapft_YUW"
      }
    },
    {
      "cell_type": "markdown",
      "source": [
        "The data used is from the United States between the years of 2000 and 2021. The original file has 14 columns and 273 entries. It divides the total tobacco consumption in topics, whether it is combustible or non-combustible. It is also divided on measures and submeasures. The first ones refer to the presentation in which the tobacco is: smokeless, cigarette, cigar, or loose. \n",
        "\n",
        "Meanwhile, submeasures are more detailed. If the measure is cigar, the submeasures are small, large o total cigars. All the entries come in different units: pounds, cigarettes, cigarette equivalent, and cigar. Some of the measures, for example loose tobacco, come in two units to help better understand and process the information.\n",
        "\n",
        "> All the entries on the dataset contain information on imports and domestic production. This kind of information is helpful when forecasting where the tobacco will be sourced from.\n"
      ],
      "metadata": {
        "id": "-qYd6ZT-EZuK"
      }
    },
    {
      "cell_type": "markdown",
      "source": [
        "## **Data Exploration and Visualization**\n",
        "\n",
        "---\n",
        "\n"
      ],
      "metadata": {
        "id": "5XCd4AzaFaCX"
      }
    },
    {
      "cell_type": "markdown",
      "source": [
        "**Exploration**"
      ],
      "metadata": {
        "id": "IGh69rJqKaoH"
      }
    },
    {
      "cell_type": "code",
      "source": [
        "import pandas as pd\n",
        "import re\n",
        "import matplotlib.pyplot as plt\n",
        "import numpy as np\n",
        "import seaborn as sns"
      ],
      "metadata": {
        "id": "eltLkwdKFhlW"
      },
      "execution_count": 58,
      "outputs": []
    },
    {
      "cell_type": "code",
      "source": [
        "data = pd.read_csv('/content/Tobacco_Consumption.csv')\n",
        "data.head() "
      ],
      "metadata": {
        "id": "C1CG08fHFsXA",
        "colab": {
          "base_uri": "https://localhost:8080/",
          "height": 392
        },
        "outputId": "716b74ce-b4e1-4997-8789-595c18fb5a9b"
      },
      "execution_count": 59,
      "outputs": [
        {
          "output_type": "execute_result",
          "data": {
            "text/html": [
              "\n",
              "  <div id=\"df-2ccbc3f4-a97c-4d07-8ed1-ac0c5cb3da83\">\n",
              "    <div class=\"colab-df-container\">\n",
              "      <div>\n",
              "<style scoped>\n",
              "    .dataframe tbody tr th:only-of-type {\n",
              "        vertical-align: middle;\n",
              "    }\n",
              "\n",
              "    .dataframe tbody tr th {\n",
              "        vertical-align: top;\n",
              "    }\n",
              "\n",
              "    .dataframe thead th {\n",
              "        text-align: right;\n",
              "    }\n",
              "</style>\n",
              "<table border=\"1\" class=\"dataframe\">\n",
              "  <thead>\n",
              "    <tr style=\"text-align: right;\">\n",
              "      <th></th>\n",
              "      <th>Year</th>\n",
              "      <th>LocationAbbrev</th>\n",
              "      <th>LocationDesc</th>\n",
              "      <th>Population</th>\n",
              "      <th>Topic</th>\n",
              "      <th>Measure</th>\n",
              "      <th>Submeasure</th>\n",
              "      <th>Data Value Unit</th>\n",
              "      <th>Domestic</th>\n",
              "      <th>Imports</th>\n",
              "      <th>Total</th>\n",
              "      <th>Domestic Per Capita</th>\n",
              "      <th>Imports Per Capita</th>\n",
              "      <th>Total Per Capita</th>\n",
              "    </tr>\n",
              "  </thead>\n",
              "  <tbody>\n",
              "    <tr>\n",
              "      <th>0</th>\n",
              "      <td>2000</td>\n",
              "      <td>US</td>\n",
              "      <td>National</td>\n",
              "      <td>209786736</td>\n",
              "      <td>Noncombustible Tobacco</td>\n",
              "      <td>Smokeless Tobacco</td>\n",
              "      <td>Chewing Tobacco</td>\n",
              "      <td>Pounds</td>\n",
              "      <td>4.550216e+07</td>\n",
              "      <td>91965</td>\n",
              "      <td>4.559412e+07</td>\n",
              "      <td>0.217</td>\n",
              "      <td>0.0</td>\n",
              "      <td>0.217</td>\n",
              "    </tr>\n",
              "    <tr>\n",
              "      <th>1</th>\n",
              "      <td>2000</td>\n",
              "      <td>US</td>\n",
              "      <td>National</td>\n",
              "      <td>209786736</td>\n",
              "      <td>Combustible Tobacco</td>\n",
              "      <td>Cigarettes</td>\n",
              "      <td>Cigarette Removals</td>\n",
              "      <td>Cigarettes</td>\n",
              "      <td>4.232500e+11</td>\n",
              "      <td>12319663000</td>\n",
              "      <td>4.355700e+11</td>\n",
              "      <td>2018.000</td>\n",
              "      <td>59.0</td>\n",
              "      <td>2076.000</td>\n",
              "    </tr>\n",
              "    <tr>\n",
              "      <th>2</th>\n",
              "      <td>2000</td>\n",
              "      <td>US</td>\n",
              "      <td>National</td>\n",
              "      <td>209786736</td>\n",
              "      <td>Combustible Tobacco</td>\n",
              "      <td>Cigars</td>\n",
              "      <td>Total Cigars</td>\n",
              "      <td>Cigars</td>\n",
              "      <td>5.612867e+09</td>\n",
              "      <td>548243000</td>\n",
              "      <td>6.161110e+09</td>\n",
              "      <td>27.000</td>\n",
              "      <td>3.0</td>\n",
              "      <td>29.000</td>\n",
              "    </tr>\n",
              "    <tr>\n",
              "      <th>3</th>\n",
              "      <td>2000</td>\n",
              "      <td>US</td>\n",
              "      <td>National</td>\n",
              "      <td>209786736</td>\n",
              "      <td>Combustible Tobacco</td>\n",
              "      <td>Loose Tobacco</td>\n",
              "      <td>Total Loose Tobacco</td>\n",
              "      <td>Cigarette Equivalents</td>\n",
              "      <td>8.291277e+09</td>\n",
              "      <td>702741662</td>\n",
              "      <td>8.994018e+09</td>\n",
              "      <td>40.000</td>\n",
              "      <td>3.0</td>\n",
              "      <td>43.000</td>\n",
              "    </tr>\n",
              "    <tr>\n",
              "      <th>4</th>\n",
              "      <td>2000</td>\n",
              "      <td>US</td>\n",
              "      <td>National</td>\n",
              "      <td>209786736</td>\n",
              "      <td>Combustible Tobacco</td>\n",
              "      <td>Loose Tobacco</td>\n",
              "      <td>Total Loose Tobacco</td>\n",
              "      <td>Pounds</td>\n",
              "      <td>1.684166e+07</td>\n",
              "      <td>1427444</td>\n",
              "      <td>1.826910e+07</td>\n",
              "      <td>0.000</td>\n",
              "      <td>0.0</td>\n",
              "      <td>0.000</td>\n",
              "    </tr>\n",
              "  </tbody>\n",
              "</table>\n",
              "</div>\n",
              "      <button class=\"colab-df-convert\" onclick=\"convertToInteractive('df-2ccbc3f4-a97c-4d07-8ed1-ac0c5cb3da83')\"\n",
              "              title=\"Convert this dataframe to an interactive table.\"\n",
              "              style=\"display:none;\">\n",
              "        \n",
              "  <svg xmlns=\"http://www.w3.org/2000/svg\" height=\"24px\"viewBox=\"0 0 24 24\"\n",
              "       width=\"24px\">\n",
              "    <path d=\"M0 0h24v24H0V0z\" fill=\"none\"/>\n",
              "    <path d=\"M18.56 5.44l.94 2.06.94-2.06 2.06-.94-2.06-.94-.94-2.06-.94 2.06-2.06.94zm-11 1L8.5 8.5l.94-2.06 2.06-.94-2.06-.94L8.5 2.5l-.94 2.06-2.06.94zm10 10l.94 2.06.94-2.06 2.06-.94-2.06-.94-.94-2.06-.94 2.06-2.06.94z\"/><path d=\"M17.41 7.96l-1.37-1.37c-.4-.4-.92-.59-1.43-.59-.52 0-1.04.2-1.43.59L10.3 9.45l-7.72 7.72c-.78.78-.78 2.05 0 2.83L4 21.41c.39.39.9.59 1.41.59.51 0 1.02-.2 1.41-.59l7.78-7.78 2.81-2.81c.8-.78.8-2.07 0-2.86zM5.41 20L4 18.59l7.72-7.72 1.47 1.35L5.41 20z\"/>\n",
              "  </svg>\n",
              "      </button>\n",
              "      \n",
              "  <style>\n",
              "    .colab-df-container {\n",
              "      display:flex;\n",
              "      flex-wrap:wrap;\n",
              "      gap: 12px;\n",
              "    }\n",
              "\n",
              "    .colab-df-convert {\n",
              "      background-color: #E8F0FE;\n",
              "      border: none;\n",
              "      border-radius: 50%;\n",
              "      cursor: pointer;\n",
              "      display: none;\n",
              "      fill: #1967D2;\n",
              "      height: 32px;\n",
              "      padding: 0 0 0 0;\n",
              "      width: 32px;\n",
              "    }\n",
              "\n",
              "    .colab-df-convert:hover {\n",
              "      background-color: #E2EBFA;\n",
              "      box-shadow: 0px 1px 2px rgba(60, 64, 67, 0.3), 0px 1px 3px 1px rgba(60, 64, 67, 0.15);\n",
              "      fill: #174EA6;\n",
              "    }\n",
              "\n",
              "    [theme=dark] .colab-df-convert {\n",
              "      background-color: #3B4455;\n",
              "      fill: #D2E3FC;\n",
              "    }\n",
              "\n",
              "    [theme=dark] .colab-df-convert:hover {\n",
              "      background-color: #434B5C;\n",
              "      box-shadow: 0px 1px 3px 1px rgba(0, 0, 0, 0.15);\n",
              "      filter: drop-shadow(0px 1px 2px rgba(0, 0, 0, 0.3));\n",
              "      fill: #FFFFFF;\n",
              "    }\n",
              "  </style>\n",
              "\n",
              "      <script>\n",
              "        const buttonEl =\n",
              "          document.querySelector('#df-2ccbc3f4-a97c-4d07-8ed1-ac0c5cb3da83 button.colab-df-convert');\n",
              "        buttonEl.style.display =\n",
              "          google.colab.kernel.accessAllowed ? 'block' : 'none';\n",
              "\n",
              "        async function convertToInteractive(key) {\n",
              "          const element = document.querySelector('#df-2ccbc3f4-a97c-4d07-8ed1-ac0c5cb3da83');\n",
              "          const dataTable =\n",
              "            await google.colab.kernel.invokeFunction('convertToInteractive',\n",
              "                                                     [key], {});\n",
              "          if (!dataTable) return;\n",
              "\n",
              "          const docLinkHtml = 'Like what you see? Visit the ' +\n",
              "            '<a target=\"_blank\" href=https://colab.research.google.com/notebooks/data_table.ipynb>data table notebook</a>'\n",
              "            + ' to learn more about interactive tables.';\n",
              "          element.innerHTML = '';\n",
              "          dataTable['output_type'] = 'display_data';\n",
              "          await google.colab.output.renderOutput(dataTable, element);\n",
              "          const docLink = document.createElement('div');\n",
              "          docLink.innerHTML = docLinkHtml;\n",
              "          element.appendChild(docLink);\n",
              "        }\n",
              "      </script>\n",
              "    </div>\n",
              "  </div>\n",
              "  "
            ],
            "text/plain": [
              "   Year LocationAbbrev LocationDesc  Population                   Topic  \\\n",
              "0  2000             US     National   209786736  Noncombustible Tobacco   \n",
              "1  2000             US     National   209786736     Combustible Tobacco   \n",
              "2  2000             US     National   209786736     Combustible Tobacco   \n",
              "3  2000             US     National   209786736     Combustible Tobacco   \n",
              "4  2000             US     National   209786736     Combustible Tobacco   \n",
              "\n",
              "             Measure           Submeasure        Data Value Unit  \\\n",
              "0  Smokeless Tobacco      Chewing Tobacco                 Pounds   \n",
              "1         Cigarettes   Cigarette Removals             Cigarettes   \n",
              "2             Cigars         Total Cigars                 Cigars   \n",
              "3      Loose Tobacco  Total Loose Tobacco  Cigarette Equivalents   \n",
              "4      Loose Tobacco  Total Loose Tobacco                 Pounds   \n",
              "\n",
              "       Domestic      Imports         Total  Domestic Per Capita  \\\n",
              "0  4.550216e+07        91965  4.559412e+07                0.217   \n",
              "1  4.232500e+11  12319663000  4.355700e+11             2018.000   \n",
              "2  5.612867e+09    548243000  6.161110e+09               27.000   \n",
              "3  8.291277e+09    702741662  8.994018e+09               40.000   \n",
              "4  1.684166e+07      1427444  1.826910e+07                0.000   \n",
              "\n",
              "   Imports Per Capita  Total Per Capita  \n",
              "0                 0.0             0.217  \n",
              "1                59.0          2076.000  \n",
              "2                 3.0            29.000  \n",
              "3                 3.0            43.000  \n",
              "4                 0.0             0.000  "
            ]
          },
          "metadata": {},
          "execution_count": 59
        }
      ]
    },
    {
      "cell_type": "code",
      "source": [
        "data.info() #Summary of the number of values and types of data"
      ],
      "metadata": {
        "id": "hFe6-6YQGEvx",
        "colab": {
          "base_uri": "https://localhost:8080/"
        },
        "outputId": "c8c65b37-85fa-4aae-8f0b-4b0f014871fa"
      },
      "execution_count": 60,
      "outputs": [
        {
          "output_type": "stream",
          "name": "stdout",
          "text": [
            "<class 'pandas.core.frame.DataFrame'>\n",
            "RangeIndex: 273 entries, 0 to 272\n",
            "Data columns (total 14 columns):\n",
            " #   Column               Non-Null Count  Dtype  \n",
            "---  ------               --------------  -----  \n",
            " 0   Year                 273 non-null    int64  \n",
            " 1   LocationAbbrev       273 non-null    object \n",
            " 2   LocationDesc         273 non-null    object \n",
            " 3   Population           273 non-null    int64  \n",
            " 4   Topic                273 non-null    object \n",
            " 5   Measure              273 non-null    object \n",
            " 6   Submeasure           273 non-null    object \n",
            " 7   Data Value Unit      273 non-null    object \n",
            " 8   Domestic             273 non-null    float64\n",
            " 9   Imports              273 non-null    int64  \n",
            " 10  Total                273 non-null    float64\n",
            " 11  Domestic Per Capita  273 non-null    float64\n",
            " 12  Imports Per Capita   273 non-null    float64\n",
            " 13  Total Per Capita     273 non-null    float64\n",
            "dtypes: float64(5), int64(3), object(6)\n",
            "memory usage: 30.0+ KB\n"
          ]
        }
      ]
    },
    {
      "cell_type": "markdown",
      "source": [
        "In the table above it is possible to visualize that no column has null values, every entry has a value.\n"
      ],
      "metadata": {
        "id": "3A_ljGDEGS-d"
      }
    },
    {
      "cell_type": "code",
      "source": [
        "data = data.drop(columns=['LocationAbbrev', 'LocationDesc']) "
      ],
      "metadata": {
        "id": "fc2wV6ynGRgP"
      },
      "execution_count": 61,
      "outputs": []
    },
    {
      "cell_type": "markdown",
      "source": [
        "Because all the data is from the United States and the descriptions are national, *LocationAbbrev* and *LocationDesc* columns were removed to simplify the database."
      ],
      "metadata": {
        "id": "6UF_vzC7HK56"
      }
    },
    {
      "cell_type": "code",
      "source": [
        "data = data[[not bool(re.search('Total', sub)) for sub in data.Submeasure]]"
      ],
      "metadata": {
        "id": "Zbeob_yKHI2G"
      },
      "execution_count": 62,
      "outputs": []
    },
    {
      "cell_type": "markdown",
      "source": [
        "Subcategories consisting of the sum of other categories are removed before any visualization, as this could affect the results when viewing and handling the data."
      ],
      "metadata": {
        "id": "eGY2yhDpIdeJ"
      }
    },
    {
      "cell_type": "code",
      "source": [
        "# Visualize the distribution of measure and submeasures\n",
        "data.groupby(['Measure','Submeasure', 'Data Value Unit'])['Total'].sum() "
      ],
      "metadata": {
        "id": "-djDOODgJjOt",
        "colab": {
          "base_uri": "https://localhost:8080/"
        },
        "outputId": "04f41782-016e-4869-bf5e-1d575057812a"
      },
      "execution_count": 63,
      "outputs": [
        {
          "output_type": "execute_result",
          "data": {
            "text/plain": [
              "Measure            Submeasure             Data Value Unit      \n",
              "Cigarettes         Cigarette Removals     Cigarettes               6.740502e+12\n",
              "Cigars             Large Cigars           Cigars                   1.931963e+11\n",
              "                   Small Cigars           Cigars                   4.023731e+10\n",
              "Loose Tobacco      Pipe Tobacco           Cigarette Equivalents    2.307750e+11\n",
              "                                          Pounds                   4.687617e+08\n",
              "                   Roll-Your-Own Tobacco  Cigarette Equivalents    9.170287e+10\n",
              "                                          Pounds                   1.862715e+08\n",
              "Smokeless Tobacco  Chewing Tobacco        Pounds                   6.385033e+08\n",
              "                   Snuff                  Pounds                   2.048766e+09\n",
              "Name: Total, dtype: float64"
            ]
          },
          "metadata": {},
          "execution_count": 63
        }
      ]
    },
    {
      "cell_type": "markdown",
      "source": [
        "#Visualization"
      ],
      "metadata": {
        "id": "8vqb30nxKeW-"
      }
    },
    {
      "cell_type": "markdown",
      "source": [
        "Submeasure Total Box Plot (Only products measured in pounds).\n",
        ">They show the median and interquartile range of each product, it allows a better visualization of the usual yearly comsumption.\n",
        "\n",
        "The most consumed presentation of tobacco is snuff. "
      ],
      "metadata": {
        "id": "--m7B7mUoIJh"
      }
    },
    {
      "cell_type": "code",
      "source": [
        "fig, ax = plt.subplots(figsize=(10,5), dpi= 100)\n",
        "data_pounds_box = pd.DataFrame(data[data['Data Value Unit'] == 'Pounds']) #Data where the unit is Pounds\n",
        "sns.boxplot(x = 'Submeasure', y = 'Total', data = data_pounds_box)\n",
        "ax.set_title('Total feature boxplot per submeasure')\n",
        "ax.set_ylabel('Total (pounds)')"
      ],
      "metadata": {
        "id": "Scqwdl13eiNf",
        "colab": {
          "base_uri": "https://localhost:8080/",
          "height": 497
        },
        "outputId": "a68c9bb0-70ce-4f0c-abc4-8e281e0b497b"
      },
      "execution_count": 64,
      "outputs": [
        {
          "output_type": "execute_result",
          "data": {
            "text/plain": [
              "Text(0, 0.5, 'Total (pounds)')"
            ]
          },
          "metadata": {},
          "execution_count": 64
        },
        {
          "output_type": "display_data",
          "data": {
            "image/png": "[encoded data removed]",
            "text/plain": [
              "<Figure size 1000x500 with 1 Axes>"
            ]
          },
          "metadata": {
            "needs_background": "light"
          }
        }
      ]
    },
    {
      "cell_type": "markdown",
      "source": [
        "Submeasure Total Box Plot \n",
        "\n",
        "The products compared for the boxplot are cigars in its two sizes, the preferred ones are large cigars."
      ],
      "metadata": {
        "id": "eH8xNck10ayL"
      }
    },
    {
      "cell_type": "code",
      "source": [
        "fig, ax = plt.subplots(figsize=(10,5), dpi= 100)\n",
        "data_cigars_box = pd.DataFrame(data[data['Data Value Unit'] == 'Cigars']) #Data that which unit is Cigars\n",
        "sns.boxplot(x = 'Submeasure', y = 'Total', data = data_cigars_box)\n",
        "ax.set_title('Total feature boxplot per submeasure')\n",
        "ax.set_ylabel('Total (Cigars)')"
      ],
      "metadata": {
        "id": "tvIxiWRd0TGQ",
        "colab": {
          "base_uri": "https://localhost:8080/",
          "height": 497
        },
        "outputId": "c3a39316-214f-4abb-ff6b-5b5c97e842bc"
      },
      "execution_count": 65,
      "outputs": [
        {
          "output_type": "execute_result",
          "data": {
            "text/plain": [
              "Text(0, 0.5, 'Total (Cigars)')"
            ]
          },
          "metadata": {},
          "execution_count": 65
        },
        {
          "output_type": "display_data",
          "data": {
            "image/png": "[encoded data removed]",
            "text/plain": [
              "<Figure size 1000x500 with 1 Axes>"
            ]
          },
          "metadata": {
            "needs_background": "light"
          }
        }
      ]
    },
    {
      "cell_type": "markdown",
      "source": [
        "Submeasure Total Box Plot (Only products measured in cigarettes and cigarettes equivalent)"
      ],
      "metadata": {
        "id": "Co7B-bCg2SoR"
      }
    },
    {
      "cell_type": "code",
      "source": [
        "fig, ax = plt.subplots(figsize=(10,5), dpi= 100)\n",
        "data_cigarettes_box = pd.DataFrame(data[data['Data Value Unit'] == 'Cigarettes']) #Shows all the data in which the units are Cigars\n",
        "sns.boxplot(x = 'Submeasure', y = 'Total', data = data_cigarettes_box)\n",
        "ax.set_title('Total feature boxplot for Cigarettes')\n",
        "ax.set_ylabel('Total (Cigarettes)')"
      ],
      "metadata": {
        "id": "o6mmvESB2Xs9",
        "colab": {
          "base_uri": "https://localhost:8080/",
          "height": 497
        },
        "outputId": "5092962b-11c9-4f94-9dec-44a1e13ccb92"
      },
      "execution_count": 66,
      "outputs": [
        {
          "output_type": "execute_result",
          "data": {
            "text/plain": [
              "Text(0, 0.5, 'Total (Cigarettes)')"
            ]
          },
          "metadata": {},
          "execution_count": 66
        },
        {
          "output_type": "display_data",
          "data": {
            "image/png": "[encoded data removed]",
            "text/plain": [
              "<Figure size 1000x500 with 1 Axes>"
            ]
          },
          "metadata": {
            "needs_background": "light"
          }
        }
      ]
    },
    {
      "cell_type": "markdown",
      "source": [
        "From the box graphs it is possible to observe that only one of the sub measures presents an outlier, this being the small cigars. Thus, none of the other submeasures present any outliers that need to be removed or fixed in any way."
      ],
      "metadata": {
        "id": "Zu07_LDK2sKm"
      }
    },
    {
      "cell_type": "markdown",
      "source": [
        "###Total Domestic and Imported Tobacco Products by Year (Only products measured in pounds)"
      ],
      "metadata": {
        "id": "ASkuC4YB7ru_"
      }
    },
    {
      "cell_type": "code",
      "source": [
        "#data selection\n",
        "g1_labels = data['Year'].unique()\n",
        "data_pounds_box = pd.DataFrame(data[data['Data Value Unit'] == 'Pounds'])\n",
        "g1_domestic_prod = data_pounds_box.groupby(['Year'])['Domestic'].sum() / 1000000\n",
        "g1_imported_prod =  data_pounds_box.groupby(['Year'])['Imports'].sum() / 1000000\n",
        "\n",
        "#creating subplots plot\n",
        "g1_width = 0.6\n",
        "g1_fig, g1_ax = plt.subplots(figsize = (15,8))\n",
        "\n",
        "#setting bars with series\n",
        "g1_ax.bar(g1_labels, g1_domestic_prod, g1_width, label='Domestic')\n",
        "g1_ax.bar(g1_labels, g1_imported_prod, g1_width, bottom = g1_domestic_prod, label='Imports')\n",
        "\n",
        "#setting graph parameters\n",
        "g1_ax.set_xticks(g1_labels, minor=False)\n",
        "g1_ax.xaxis.set_tick_params(labelrotation=30.0)\n",
        "g1_ax.set_ylabel('Million of pounds')\n",
        "g1_ax.set_title('Total Domestic and Imported Tobacco Products')\n",
        "g1_ax.legend()\n",
        "\n",
        "#plotting\n",
        "plt.show()"
      ],
      "metadata": {
        "id": "nyX1a8H971zu",
        "colab": {
          "base_uri": "https://localhost:8080/",
          "height": 510
        },
        "outputId": "bd2e4543-ff9c-45d0-8166-9e9e36087f9a"
      },
      "execution_count": 67,
      "outputs": [
        {
          "output_type": "display_data",
          "data": {
            "image/png": "[encoded data removed]",
            "text/plain": [
              "<Figure size 1080x576 with 1 Axes>"
            ]
          },
          "metadata": {
            "needs_background": "light"
          }
        }
      ]
    },
    {
      "cell_type": "markdown",
      "source": [
        "Domestic production increased during 2010's. \n",
        "Imports increased slightly when the domestic tobacco consumption was reduced."
      ],
      "metadata": {
        "id": "5rCqjoO7NHc9"
      }
    },
    {
      "cell_type": "markdown",
      "source": [
        "###Total Domestic and Imported Tobacco Products by Year (Only products measured in cigars)"
      ],
      "metadata": {
        "id": "tXhOa-9L_7TQ"
      }
    },
    {
      "cell_type": "code",
      "source": [
        "#data selection\n",
        "g1_labels = data['Year'].unique()\n",
        "data_cigars_box = pd.DataFrame(data[data['Data Value Unit'] == 'Cigars'])\n",
        "g1_domestic_prod = data_cigars_box.groupby(['Year'])['Domestic'].sum() / 1000000000\n",
        "g1_imported_prod =  data_cigars_box.groupby(['Year'])['Imports'].sum() / 1000000000\n",
        "\n",
        "#creating subplots plot\n",
        "g1_width = 0.6\n",
        "g1_fig, g1_ax = plt.subplots(figsize = (15,8))\n",
        "\n",
        "#setting bars with series\n",
        "g1_ax.bar(g1_labels, g1_domestic_prod, g1_width, label='Domestic')\n",
        "g1_ax.bar(g1_labels, g1_imported_prod, g1_width, bottom = g1_domestic_prod, label='Imports')\n",
        "\n",
        "#setting graph parameters\n",
        "g1_ax.set_xticks(g1_labels, minor=False)\n",
        "g1_ax.xaxis.set_tick_params(labelrotation=30.0)\n",
        "g1_ax.set_ylabel('Billion of Cigars')\n",
        "g1_ax.set_title('Total Domestic and Imported Tobacco Products')\n",
        "g1_ax.legend()\n",
        "\n",
        "#plotting\n",
        "plt.show()"
      ],
      "metadata": {
        "id": "Bit8s9om_-Ff",
        "colab": {
          "base_uri": "https://localhost:8080/",
          "height": 510
        },
        "outputId": "291431e9-26a1-4323-ad40-e7e9dd18a6f5"
      },
      "execution_count": 68,
      "outputs": [
        {
          "output_type": "display_data",
          "data": {
            "image/png": "[encoded data removed]",
            "text/plain": [
              "<Figure size 1080x576 with 1 Axes>"
            ]
          },
          "metadata": {
            "needs_background": "light"
          }
        }
      ]
    },
    {
      "cell_type": "markdown",
      "source": [
        "Domestic cigar consumption increased during 2004-2011. When it began decreasing, the demand was met by imported products. \n",
        "\n",
        ">It is unknown whether the domestic consumption was reduced by the arrival of imports."
      ],
      "metadata": {
        "id": "nwGA6b1aN2U0"
      }
    },
    {
      "cell_type": "markdown",
      "source": [
        "###Total Domestic and Imported Tobacco Products by Year (Only cigarettes)"
      ],
      "metadata": {
        "id": "rrvWMScgAXvo"
      }
    },
    {
      "cell_type": "code",
      "source": [
        "#data selection\n",
        "g1_labels = data['Year'].unique()\n",
        "data_cigarettes_box = pd.DataFrame(data[data['Data Value Unit'] == 'Cigarettes'])\n",
        "g1_domestic_prod = data_cigarettes_box.groupby(['Year'])['Domestic'].sum() / 1000000000\n",
        "g1_imported_prod =  data_cigarettes_box.groupby(['Year'])['Imports'].sum() / 1000000000\n",
        "\n",
        "#creating subplots plot\n",
        "g1_width = 0.6\n",
        "g1_fig, g1_ax = plt.subplots(figsize = (15,8))\n",
        "\n",
        "#setting bars with series\n",
        "g1_ax.bar(g1_labels, g1_domestic_prod, g1_width, label='Domestic')\n",
        "g1_ax.bar(g1_labels, g1_imported_prod, g1_width, bottom = g1_domestic_prod, label='Imports')\n",
        "\n",
        "#setting graph parameters\n",
        "g1_ax.set_xticks(g1_labels, minor=False)\n",
        "g1_ax.xaxis.set_tick_params(labelrotation=30.0)\n",
        "g1_ax.set_ylabel('Billion of Cigarettes')\n",
        "g1_ax.set_title('Total Domestic and Imported Tobacco Products')\n",
        "g1_ax.legend()\n",
        "\n",
        "#plotting\n",
        "plt.show()"
      ],
      "metadata": {
        "id": "476ZO9sUAXO_",
        "colab": {
          "base_uri": "https://localhost:8080/",
          "height": 510
        },
        "outputId": "80fd3e49-8ef6-4d16-c087-fc3fc148d46e"
      },
      "execution_count": 69,
      "outputs": [
        {
          "output_type": "display_data",
          "data": {
            "image/png": "[encoded data removed]",
            "text/plain": [
              "<Figure size 1080x576 with 1 Axes>"
            ]
          },
          "metadata": {
            "needs_background": "light"
          }
        }
      ]
    },
    {
      "cell_type": "markdown",
      "source": [
        "Cigarette consumption is continously declining, imports have not been affected."
      ],
      "metadata": {
        "id": "KIW9fx9kPkkD"
      }
    },
    {
      "cell_type": "markdown",
      "source": [
        "###Cigarettes and Cigars consumed by Year"
      ],
      "metadata": {
        "id": "S2LRSpk9Klfe"
      }
    },
    {
      "cell_type": "code",
      "source": [
        "#data selection\n",
        "g2_labels = data['Year'].unique()\n",
        "g2_cigarettes = data[data.Submeasure == 'Cigarette Removals']['Total'] / 1000000000\n",
        "g2_lg_cigars = data[data.Submeasure == 'Large Cigars']['Total'] / 1000000000\n",
        "g2_sm_cigars = data[data.Submeasure == 'Small Cigars']['Total'] /1000000000\n",
        "\n",
        "#creating subplots plot\n",
        "g2_x = np.arange(len(g2_labels))  # the label locations\n",
        "g2_width = 0.2  # the width of the bars\n",
        "g2_fig, g2_ax = plt.subplots(figsize = (10,5))\n",
        "\n",
        "#setting bars with series\n",
        "g2_rects1 = g2_ax.bar(g2_x - g2_width, g2_cigarettes, g2_width, label='Cigarettes')\n",
        "g2_rects2 = g2_ax.bar(g2_x - g2_width*1/3, g2_lg_cigars, g2_width, label='Large Cigars')\n",
        "g2_rects3 = g2_ax.bar(g2_x + g2_width*1/3, g2_sm_cigars, g2_width, label='Small Cigars')\n",
        "\n",
        "#setting graph parameters\n",
        "g2_ax.set_ylabel('Billion of Units consumed')\n",
        "g2_ax.set_xlabel('Year (20--)')\n",
        "g2_ax.set_title('Cigarettes and Cigars consumed by Year')\n",
        "g2_ax.set_xticks(g2_x)\n",
        "g2_ax.legend()\n",
        "\n",
        "#plotting\n",
        "plt.show()"
      ],
      "metadata": {
        "id": "YXML_xL4KhU2",
        "colab": {
          "base_uri": "https://localhost:8080/",
          "height": 350
        },
        "outputId": "de0a0056-2e16-4de9-ddc1-c928300e38bc"
      },
      "execution_count": 70,
      "outputs": [
        {
          "output_type": "display_data",
          "data": {
            "image/png": "[encoded data removed]",
            "text/plain": [
              "<Figure size 720x360 with 1 Axes>"
            ]
          },
          "metadata": {
            "needs_background": "light"
          }
        }
      ]
    },
    {
      "cell_type": "markdown",
      "source": [
        "Cigarette and small cigars consumption has decreased while large cigars have become more popular."
      ],
      "metadata": {
        "id": "jEHD0j36QML4"
      }
    },
    {
      "cell_type": "markdown",
      "source": [
        "###Loose Tobacco and Smokeless Tobacco consumed by Year"
      ],
      "metadata": {
        "id": "s8Vc_vwfK5a-"
      }
    },
    {
      "cell_type": "code",
      "source": [
        "#data selection\n",
        "g3_labels = data['Year'].unique()\n",
        "g3_pipe = data[(data.Submeasure == 'Pipe Tobacco') & (data['Data Value Unit'] == 'Pounds')]['Total'] / 1000000\n",
        "g3_roll = data[(data.Submeasure == 'Roll-Your-Own Tobacco') & (data['Data Value Unit'] == 'Pounds')]['Total'] / 1000000\n",
        "g3_chewing = data[(data.Submeasure == 'Chewing Tobacco') & (data['Data Value Unit'] == 'Pounds')]['Total'] / 1000000\n",
        "g3_snuff = data[(data.Submeasure == 'Snuff') & (data['Data Value Unit'] == 'Pounds')]['Total'] / 1000000\n",
        "\n",
        "#creating subplots plot\n",
        "g3_x = np.arange(len(g3_labels))  # the label locations\n",
        "g3_width = 0.15  # the width of the bars\n",
        "g3_fig, g3_ax = plt.subplots(figsize = (15,8))\n",
        "\n",
        "#setting bars with series\n",
        "g3_rects1 = g3_ax.bar(g3_x - g3_width*2, g3_pipe, g3_width, label='Pipe Tobacco')\n",
        "g3_rects2 = g3_ax.bar(g3_x - g3_width, g3_roll, g3_width, label='Roll-Your-Own Tobacco')\n",
        "g3_rects3 = g3_ax.bar(g3_x , g3_chewing, g3_width, label='Chewing Tobacco')\n",
        "g3_rects4 = g3_ax.bar(g3_x + g3_width, g3_snuff, g3_width, label='Snuff')\n",
        "\n",
        "#setting graph parameters\n",
        "g3_ax.set_xlabel('Year (20--)')\n",
        "g3_ax.set_ylabel('Million of pounds consumed')\n",
        "g3_ax.set_title('Loose Tobacco and Smokeless Tobacco consumed by Year')\n",
        "g3_ax.set_xticks(g3_x)\n",
        "g3_ax.legend()\n",
        "\n",
        "#plotting\n",
        "plt.show()"
      ],
      "metadata": {
        "id": "NAkdNF50J_67",
        "colab": {
          "base_uri": "https://localhost:8080/",
          "height": 513
        },
        "outputId": "6f055da8-97cc-4719-8108-2fdbb08e3639"
      },
      "execution_count": 71,
      "outputs": [
        {
          "output_type": "display_data",
          "data": {
            "image/png": "[encoded data removed]",
            "text/plain": [
              "<Figure size 1080x576 with 1 Axes>"
            ]
          },
          "metadata": {
            "needs_background": "light"
          }
        }
      ]
    },
    {
      "cell_type": "markdown",
      "source": [
        "## **Forecast Modeling**\n",
        "\n",
        "---\n",
        "\n"
      ],
      "metadata": {
        "id": "NhhBiFe9Mt6k"
      }
    },
    {
      "cell_type": "markdown",
      "source": [
        ">The objective of this forecasting model is to predict the total consumption of cigarettes for 2021. It is based on the information available in the dataset and recorded during the previous 20 years."
      ],
      "metadata": {
        "id": "eSeFKfz8UPgA"
      }
    },
    {
      "cell_type": "markdown",
      "source": [
        "For the forecasting process two different approaches were made: a first approach with the time series of cigars without any modification, and an approach after applying feature engineering."
      ],
      "metadata": {
        "id": "VCLOdqb7nV8M"
      }
    },
    {
      "cell_type": "markdown",
      "source": [
        "**Modeling with time series**\n",
        "\n",
        "---\n",
        "\n"
      ],
      "metadata": {
        "id": "ctHKcvuDnByJ"
      }
    },
    {
      "cell_type": "markdown",
      "source": [
        "**Creation and visualization of the time series**"
      ],
      "metadata": {
        "id": "NX7xQ7zrUTup"
      }
    },
    {
      "cell_type": "markdown",
      "source": [
        "Since the objective is making a forecast of the cigarette consumption, all the information from the database that is not related to this category was deleted. \n",
        "\n",
        "The time series is built from the index that indicates the year, and from the *Total* feature, which indicates the sum of the domestic and imported consumption of cigars for each year."
      ],
      "metadata": {
        "id": "GaSbr9_-UWWR"
      }
    },
    {
      "cell_type": "code",
      "source": [
        "pip install statsmodels --upgrade #Update required for proper code operation"
      ],
      "metadata": {
        "id": "nM3lBET_TgJd",
        "colab": {
          "base_uri": "https://localhost:8080/"
        },
        "outputId": "5a5249c3-a308-4d5d-9528-2ab9c7428743"
      },
      "execution_count": 72,
      "outputs": [
        {
          "output_type": "stream",
          "name": "stdout",
          "text": [
            "Requirement already satisfied: statsmodels in /usr/local/lib/python3.7/dist-packages (0.13.2)\n",
            "Requirement already satisfied: scipy>=1.3 in /usr/local/lib/python3.7/dist-packages (from statsmodels) (1.4.1)\n",
            "Requirement already satisfied: packaging>=21.3 in /usr/local/lib/python3.7/dist-packages (from statsmodels) (21.3)\n",
            "Requirement already satisfied: numpy>=1.17 in /usr/local/lib/python3.7/dist-packages (from statsmodels) (1.21.5)\n",
            "Requirement already satisfied: pandas>=0.25 in /usr/local/lib/python3.7/dist-packages (from statsmodels) (1.3.5)\n",
            "Requirement already satisfied: patsy>=0.5.2 in /usr/local/lib/python3.7/dist-packages (from statsmodels) (0.5.2)\n",
            "Requirement already satisfied: pyparsing!=3.0.5,>=2.0.2 in /usr/local/lib/python3.7/dist-packages (from packaging>=21.3->statsmodels) (3.0.7)\n",
            "Requirement already satisfied: python-dateutil>=2.7.3 in /usr/local/lib/python3.7/dist-packages (from pandas>=0.25->statsmodels) (2.8.2)\n",
            "Requirement already satisfied: pytz>=2017.3 in /usr/local/lib/python3.7/dist-packages (from pandas>=0.25->statsmodels) (2018.9)\n",
            "Requirement already satisfied: six in /usr/local/lib/python3.7/dist-packages (from patsy>=0.5.2->statsmodels) (1.15.0)\n"
          ]
        }
      ]
    },
    {
      "cell_type": "code",
      "source": [
        "pip install pmdarima #Module required for proper code operation"
      ],
      "metadata": {
        "id": "qpxqGAbUTglv",
        "colab": {
          "base_uri": "https://localhost:8080/"
        },
        "outputId": "64bf50bd-fa9d-46b7-9835-fa6ec46c3ed0"
      },
      "execution_count": 73,
      "outputs": [
        {
          "output_type": "stream",
          "name": "stdout",
          "text": [
            "Requirement already satisfied: pmdarima in /usr/local/lib/python3.7/dist-packages (1.8.5)\n",
            "Requirement already satisfied: scikit-learn>=0.22 in /usr/local/lib/python3.7/dist-packages (from pmdarima) (1.0.2)\n",
            "Requirement already satisfied: scipy>=1.3.2 in /usr/local/lib/python3.7/dist-packages (from pmdarima) (1.4.1)\n",
            "Requirement already satisfied: joblib>=0.11 in /usr/local/lib/python3.7/dist-packages (from pmdarima) (1.1.0)\n",
            "Requirement already satisfied: numpy>=1.19.3 in /usr/local/lib/python3.7/dist-packages (from pmdarima) (1.21.5)\n",
            "Requirement already satisfied: Cython!=0.29.18,>=0.29 in /usr/local/lib/python3.7/dist-packages (from pmdarima) (0.29.28)\n",
            "Requirement already satisfied: urllib3 in /usr/local/lib/python3.7/dist-packages (from pmdarima) (1.24.3)\n",
            "Requirement already satisfied: statsmodels!=0.12.0,>=0.11 in /usr/local/lib/python3.7/dist-packages (from pmdarima) (0.13.2)\n",
            "Requirement already satisfied: setuptools!=50.0.0,>=38.6.0 in /usr/local/lib/python3.7/dist-packages (from pmdarima) (57.4.0)\n",
            "Requirement already satisfied: pandas>=0.19 in /usr/local/lib/python3.7/dist-packages (from pmdarima) (1.3.5)\n",
            "Requirement already satisfied: pytz>=2017.3 in /usr/local/lib/python3.7/dist-packages (from pandas>=0.19->pmdarima) (2018.9)\n",
            "Requirement already satisfied: python-dateutil>=2.7.3 in /usr/local/lib/python3.7/dist-packages (from pandas>=0.19->pmdarima) (2.8.2)\n",
            "Requirement already satisfied: six>=1.5 in /usr/local/lib/python3.7/dist-packages (from python-dateutil>=2.7.3->pandas>=0.19->pmdarima) (1.15.0)\n",
            "Requirement already satisfied: threadpoolctl>=2.0.0 in /usr/local/lib/python3.7/dist-packages (from scikit-learn>=0.22->pmdarima) (3.1.0)\n",
            "Requirement already satisfied: packaging>=21.3 in /usr/local/lib/python3.7/dist-packages (from statsmodels!=0.12.0,>=0.11->pmdarima) (21.3)\n",
            "Requirement already satisfied: patsy>=0.5.2 in /usr/local/lib/python3.7/dist-packages (from statsmodels!=0.12.0,>=0.11->pmdarima) (0.5.2)\n",
            "Requirement already satisfied: pyparsing!=3.0.5,>=2.0.2 in /usr/local/lib/python3.7/dist-packages (from packaging>=21.3->statsmodels!=0.12.0,>=0.11->pmdarima) (3.0.7)\n"
          ]
        }
      ]
    },
    {
      "cell_type": "code",
      "source": [
        "df = data.copy(deep = True)\n",
        "df.index = df.Year"
      ],
      "metadata": {
        "id": "Ygl3xFQHTiiH"
      },
      "execution_count": 74,
      "outputs": []
    },
    {
      "cell_type": "code",
      "source": [
        "#Extracting the timeseries, using only the index year, and the total consumption column\n",
        "ts = pd.DataFrame(df[(df.Measure == 'Cigarettes')]['Total'] / 1000000000) \n",
        "#The total consumption was divided by 1 billion to make it easier to understand\n",
        "ts"
      ],
      "metadata": {
        "id": "6Y5XixqHUEln",
        "colab": {
          "base_uri": "https://localhost:8080/",
          "height": 739
        },
        "outputId": "796cf883-9f75-4e57-8f76-2509eab77606"
      },
      "execution_count": 75,
      "outputs": [
        {
          "output_type": "execute_result",
          "data": {
            "text/html": [
              "\n",
              "  <div id=\"df-f3624a5a-c4c4-4fae-92bd-725f5d58c75e\">\n",
              "    <div class=\"colab-df-container\">\n",
              "      <div>\n",
              "<style scoped>\n",
              "    .dataframe tbody tr th:only-of-type {\n",
              "        vertical-align: middle;\n",
              "    }\n",
              "\n",
              "    .dataframe tbody tr th {\n",
              "        vertical-align: top;\n",
              "    }\n",
              "\n",
              "    .dataframe thead th {\n",
              "        text-align: right;\n",
              "    }\n",
              "</style>\n",
              "<table border=\"1\" class=\"dataframe\">\n",
              "  <thead>\n",
              "    <tr style=\"text-align: right;\">\n",
              "      <th></th>\n",
              "      <th>Total</th>\n",
              "    </tr>\n",
              "    <tr>\n",
              "      <th>Year</th>\n",
              "      <th></th>\n",
              "    </tr>\n",
              "  </thead>\n",
              "  <tbody>\n",
              "    <tr>\n",
              "      <th>2000</th>\n",
              "      <td>435.570</td>\n",
              "    </tr>\n",
              "    <tr>\n",
              "      <th>2001</th>\n",
              "      <td>426.720</td>\n",
              "    </tr>\n",
              "    <tr>\n",
              "      <th>2002</th>\n",
              "      <td>415.724</td>\n",
              "    </tr>\n",
              "    <tr>\n",
              "      <th>2003</th>\n",
              "      <td>400.327</td>\n",
              "    </tr>\n",
              "    <tr>\n",
              "      <th>2004</th>\n",
              "      <td>397.655</td>\n",
              "    </tr>\n",
              "    <tr>\n",
              "      <th>2005</th>\n",
              "      <td>381.098</td>\n",
              "    </tr>\n",
              "    <tr>\n",
              "      <th>2006</th>\n",
              "      <td>380.594</td>\n",
              "    </tr>\n",
              "    <tr>\n",
              "      <th>2007</th>\n",
              "      <td>361.590</td>\n",
              "    </tr>\n",
              "    <tr>\n",
              "      <th>2008</th>\n",
              "      <td>346.420</td>\n",
              "    </tr>\n",
              "    <tr>\n",
              "      <th>2009</th>\n",
              "      <td>317.736</td>\n",
              "    </tr>\n",
              "    <tr>\n",
              "      <th>2010</th>\n",
              "      <td>300.451</td>\n",
              "    </tr>\n",
              "    <tr>\n",
              "      <th>2011</th>\n",
              "      <td>292.769</td>\n",
              "    </tr>\n",
              "    <tr>\n",
              "      <th>2012</th>\n",
              "      <td>287.187</td>\n",
              "    </tr>\n",
              "    <tr>\n",
              "      <th>2013</th>\n",
              "      <td>273.785</td>\n",
              "    </tr>\n",
              "    <tr>\n",
              "      <th>2014</th>\n",
              "      <td>262.681</td>\n",
              "    </tr>\n",
              "    <tr>\n",
              "      <th>2015</th>\n",
              "      <td>268.261</td>\n",
              "    </tr>\n",
              "    <tr>\n",
              "      <th>2016</th>\n",
              "      <td>257.454</td>\n",
              "    </tr>\n",
              "    <tr>\n",
              "      <th>2017</th>\n",
              "      <td>247.163</td>\n",
              "    </tr>\n",
              "    <tr>\n",
              "      <th>2018</th>\n",
              "      <td>235.319</td>\n",
              "    </tr>\n",
              "    <tr>\n",
              "      <th>2019</th>\n",
              "      <td>223.433</td>\n",
              "    </tr>\n",
              "    <tr>\n",
              "      <th>2020</th>\n",
              "      <td>228.565</td>\n",
              "    </tr>\n",
              "  </tbody>\n",
              "</table>\n",
              "</div>\n",
              "      <button class=\"colab-df-convert\" onclick=\"convertToInteractive('df-f3624a5a-c4c4-4fae-92bd-725f5d58c75e')\"\n",
              "              title=\"Convert this dataframe to an interactive table.\"\n",
              "              style=\"display:none;\">\n",
              "        \n",
              "  <svg xmlns=\"http://www.w3.org/2000/svg\" height=\"24px\"viewBox=\"0 0 24 24\"\n",
              "       width=\"24px\">\n",
              "    <path d=\"M0 0h24v24H0V0z\" fill=\"none\"/>\n",
              "    <path d=\"M18.56 5.44l.94 2.06.94-2.06 2.06-.94-2.06-.94-.94-2.06-.94 2.06-2.06.94zm-11 1L8.5 8.5l.94-2.06 2.06-.94-2.06-.94L8.5 2.5l-.94 2.06-2.06.94zm10 10l.94 2.06.94-2.06 2.06-.94-2.06-.94-.94-2.06-.94 2.06-2.06.94z\"/><path d=\"M17.41 7.96l-1.37-1.37c-.4-.4-.92-.59-1.43-.59-.52 0-1.04.2-1.43.59L10.3 9.45l-7.72 7.72c-.78.78-.78 2.05 0 2.83L4 21.41c.39.39.9.59 1.41.59.51 0 1.02-.2 1.41-.59l7.78-7.78 2.81-2.81c.8-.78.8-2.07 0-2.86zM5.41 20L4 18.59l7.72-7.72 1.47 1.35L5.41 20z\"/>\n",
              "  </svg>\n",
              "      </button>\n",
              "      \n",
              "  <style>\n",
              "    .colab-df-container {\n",
              "      display:flex;\n",
              "      flex-wrap:wrap;\n",
              "      gap: 12px;\n",
              "    }\n",
              "\n",
              "    .colab-df-convert {\n",
              "      background-color: #E8F0FE;\n",
              "      border: none;\n",
              "      border-radius: 50%;\n",
              "      cursor: pointer;\n",
              "      display: none;\n",
              "      fill: #1967D2;\n",
              "      height: 32px;\n",
              "      padding: 0 0 0 0;\n",
              "      width: 32px;\n",
              "    }\n",
              "\n",
              "    .colab-df-convert:hover {\n",
              "      background-color: #E2EBFA;\n",
              "      box-shadow: 0px 1px 2px rgba(60, 64, 67, 0.3), 0px 1px 3px 1px rgba(60, 64, 67, 0.15);\n",
              "      fill: #174EA6;\n",
              "    }\n",
              "\n",
              "    [theme=dark] .colab-df-convert {\n",
              "      background-color: #3B4455;\n",
              "      fill: #D2E3FC;\n",
              "    }\n",
              "\n",
              "    [theme=dark] .colab-df-convert:hover {\n",
              "      background-color: #434B5C;\n",
              "      box-shadow: 0px 1px 3px 1px rgba(0, 0, 0, 0.15);\n",
              "      filter: drop-shadow(0px 1px 2px rgba(0, 0, 0, 0.3));\n",
              "      fill: #FFFFFF;\n",
              "    }\n",
              "  </style>\n",
              "\n",
              "      <script>\n",
              "        const buttonEl =\n",
              "          document.querySelector('#df-f3624a5a-c4c4-4fae-92bd-725f5d58c75e button.colab-df-convert');\n",
              "        buttonEl.style.display =\n",
              "          google.colab.kernel.accessAllowed ? 'block' : 'none';\n",
              "\n",
              "        async function convertToInteractive(key) {\n",
              "          const element = document.querySelector('#df-f3624a5a-c4c4-4fae-92bd-725f5d58c75e');\n",
              "          const dataTable =\n",
              "            await google.colab.kernel.invokeFunction('convertToInteractive',\n",
              "                                                     [key], {});\n",
              "          if (!dataTable) return;\n",
              "\n",
              "          const docLinkHtml = 'Like what you see? Visit the ' +\n",
              "            '<a target=\"_blank\" href=https://colab.research.google.com/notebooks/data_table.ipynb>data table notebook</a>'\n",
              "            + ' to learn more about interactive tables.';\n",
              "          element.innerHTML = '';\n",
              "          dataTable['output_type'] = 'display_data';\n",
              "          await google.colab.output.renderOutput(dataTable, element);\n",
              "          const docLink = document.createElement('div');\n",
              "          docLink.innerHTML = docLinkHtml;\n",
              "          element.appendChild(docLink);\n",
              "        }\n",
              "      </script>\n",
              "    </div>\n",
              "  </div>\n",
              "  "
            ],
            "text/plain": [
              "        Total\n",
              "Year         \n",
              "2000  435.570\n",
              "2001  426.720\n",
              "2002  415.724\n",
              "2003  400.327\n",
              "2004  397.655\n",
              "2005  381.098\n",
              "2006  380.594\n",
              "2007  361.590\n",
              "2008  346.420\n",
              "2009  317.736\n",
              "2010  300.451\n",
              "2011  292.769\n",
              "2012  287.187\n",
              "2013  273.785\n",
              "2014  262.681\n",
              "2015  268.261\n",
              "2016  257.454\n",
              "2017  247.163\n",
              "2018  235.319\n",
              "2019  223.433\n",
              "2020  228.565"
            ]
          },
          "metadata": {},
          "execution_count": 75
        }
      ]
    },
    {
      "cell_type": "code",
      "source": [
        "#Plotting the timeseries to visualize the data\n",
        "fig, ax = plt.subplots(figsize=(15,5), dpi = 100)                                  \n",
        "plt.plot(ts.index, ts['Total'], color = 'tab:blue')\n",
        "plt.gca().set(title = 'Cigarettes Total Consumption in the U.S. from 2000 to 2020', \n",
        "              xlabel = 'Year',\n",
        "              ylabel = 'Cigarettes (Billions)')\n",
        "plt.xticks(ts.index)\n",
        "plt.grid(True)\n",
        "plt.show()"
      ],
      "metadata": {
        "id": "hJ70FkILUvXO",
        "colab": {
          "base_uri": "https://localhost:8080/",
          "height": 480
        },
        "outputId": "7cbf7736-0827-424a-dcb2-ccaae7425d04"
      },
      "execution_count": 76,
      "outputs": [
        {
          "output_type": "display_data",
          "data": {
            "image/png": "[encoded data removed]",
            "text/plain": [
              "<Figure size 1500x500 with 1 Axes>"
            ]
          },
          "metadata": {
            "needs_background": "light"
          }
        }
      ]
    },
    {
      "cell_type": "markdown",
      "source": [
        "The time series above shows the evolution of cigarette consumption in the first 21 years of the XXI Century. \n",
        "\n",
        "As it can be seen, this time series doesn't present any kind of seasonality. Nevertheless, there is a clear trend in the number of cigarettes consumed, this being a downward trend. \n",
        "\n",
        "Based on this last detail, it is possible to expect the model to make a lower consumption forecast than in previous years. Even so, due to the positive change that occurs between 2019 and 2020, it is feasible that the model estimates a higher consumption than the last year recorded."
      ],
      "metadata": {
        "id": "ZqZyf1lZVH5u"
      }
    },
    {
      "cell_type": "markdown",
      "source": [
        "**Test for Stationarity**"
      ],
      "metadata": {
        "id": "BHB-5kzFVO5s"
      }
    },
    {
      "cell_type": "markdown",
      "source": [
        "Before any model was built, the time series was tested to be stationary, using an augmented Dickey Fuller test (ADF Test)."
      ],
      "metadata": {
        "id": "JzO_iYWXVRpH"
      }
    },
    {
      "cell_type": "code",
      "source": [
        "from statsmodels.tsa.stattools import adfuller, kpss"
      ],
      "metadata": {
        "id": "bELeYD77VOWT"
      },
      "execution_count": 77,
      "outputs": []
    },
    {
      "cell_type": "code",
      "source": [
        "#Augmented Dickey Fuller test (ADF Test)\n",
        "result = adfuller(ts['Total'], autolag = 'AIC')\n",
        "print(f'ADF Statistic: {result[0]}')\n",
        "print(f'p-value: {result[1]}')\n",
        "for key, value in result[4].items():\n",
        "    print('Critial Values:')\n",
        "    print(f'   {key}, {value}')"
      ],
      "metadata": {
        "id": "dbFbjM4JVUYO",
        "colab": {
          "base_uri": "https://localhost:8080/"
        },
        "outputId": "5f98353e-fd6e-48a9-bdf1-6d8f533b2b22"
      },
      "execution_count": 78,
      "outputs": [
        {
          "output_type": "stream",
          "name": "stdout",
          "text": [
            "ADF Statistic: -4.024653761493079\n",
            "p-value: 0.0012867787254405298\n",
            "Critial Values:\n",
            "   1%, -4.137829282407408\n",
            "Critial Values:\n",
            "   5%, -3.1549724074074077\n",
            "Critial Values:\n",
            "   10%, -2.7144769444444443\n"
          ]
        }
      ]
    },
    {
      "cell_type": "markdown",
      "source": [
        "Since P-value is less than the significance level (0.05), it is possible to reject the null hypothesis and conclude that the time series doesn't possesses an unit root, and is stationary."
      ],
      "metadata": {
        "id": "wOjiNHyqVa4a"
      }
    },
    {
      "cell_type": "markdown",
      "source": [
        "**Model creation I**"
      ],
      "metadata": {
        "id": "PI2Zj2PRVd2-"
      }
    },
    {
      "cell_type": "markdown",
      "source": [
        "Once confirmed the stationarity of the data, the model was carried out. Two models were elaborated in order to compare different forecasts, as well as consider the different options that could be presented to analyze the time series. Therefore, an Auto Regressive Model (AR), an exponential Holt Smoothing Model (ETS)  and Linear Regression model were selected for this task. As noted above, the previous selection was based on the absence of seasonality in the time series, and the prominent presence of a negative trend."
      ],
      "metadata": {
        "id": "xY1eb6GfVnu4"
      }
    },
    {
      "cell_type": "code",
      "source": [
        "def fit_models(data): #Funcion that uses already prepared time series (Date - Value)\n",
        "  from statsmodels.tsa.ar_model import AutoReg\n",
        "  from statsmodels.tsa.exponential_smoothing.ets import ETSModel\n",
        "  from statsmodels.tsa.arima.model import ARIMA\n",
        "  from sklearn.linear_model import LinearRegression\n",
        "  from pmdarima import auto_arima\n",
        "  import warnings\n",
        "  from math import sqrt\n",
        "  from sklearn.metrics import mean_squared_error\n",
        "  warnings.filterwarnings('ignore')\n",
        "\n",
        "  models_info = {   #Dictionary to save relevant information\n",
        "    'ETS':{\n",
        "        'RMSE': None,\n",
        "        'Forecast 2021': None\n",
        "    },\n",
        "    'Auto Regression':{\n",
        "        'RMSE': None,\n",
        "        'Forecast 2021': None\n",
        "    },\n",
        "    'Linear Regression':{\n",
        "       'RMSE': None,\n",
        "        'Forecast 2021': None \n",
        "    }\n",
        "  }\n",
        "\n",
        "  # Split the data into Train and Test\n",
        "  train = data[:round(len(data)*0.8)] #Train set: 80%\n",
        "  test = data[round(len(data)*0.8):]  #Test set: 20%\n",
        "\n",
        "  # Exponential Smoothing (ETS) Model\n",
        "  ets_model = ETSModel(train['Total']).fit()\n",
        "  ets_test = ets_model.predict(start = len(train), end = len(data)-1, dynamic = False)  # Test results\n",
        "  ets_rmse = sqrt(mean_squared_error(test.values, ets_test.values))                     # Accuracy metric\n",
        "  ets_forecast = ets_model.predict(start = 0, end = len(data), dynamic = False)         # Full data forecast\n",
        "  models_info['ETS']['RMSE'] = ets_rmse                                                 # Save the RMSE value in the dictionary\n",
        "  models_info['ETS']['Forecast 2021'] = ets_forecast[21]                                # Save the forecast for 2021 in the dicionary\n",
        "\n",
        "  # Auto Regression (AR) Model\n",
        "  ar_model = AutoReg(train, lags = 1).fit()\n",
        "  ar_test = ar_model.predict(start = len(train), end = len(data)-1, dynamic = False)\n",
        "  ar_rmse = sqrt(mean_squared_error(test.values, ar_test.values))\n",
        "  ar_forecast = ar_model.predict(start = 0, end = len(data), dynamic = False)\n",
        "  models_info['Auto Regression']['RMSE'] = ar_rmse\n",
        "  models_info['Auto Regression']['Forecast 2021'] = ar_forecast[21]\n",
        "\n",
        "  # Linear Regression Model\n",
        "  data['Total_LastYear'] = data['Total'].shift(+1)      #Feature #1: Total last year value\n",
        "  data['Total_2YearsBack'] = data['Total'].shift(+2)    #Feature #2: Total 2 years ago value\n",
        "  data['Total_3YearsBack'] = data['Total'].shift(+3)    #Feature #3: Total 3 years ago value\n",
        "  data = data.dropna()\n",
        "  x = (data.iloc[:,[1,2,3]])  #Putting all the features in one array\n",
        "  y = (data.Total)\n",
        "\n",
        "  x_train, x_test, y_train, y_test = x[:round(len(x)*0.8)], x[round(len(x)*0.8):], y[:round(len(y)*0.8)], y[round(len(y)*0.8):] #80/20 division again\n",
        "\n",
        "\n",
        "  linear_model = LinearRegression().fit(x_train, y_train)\n",
        "  linear_test = linear_model.predict(x_test)\n",
        "  linear_rmse = sqrt(mean_squared_error(y_test.values, linear_test))\n",
        "  linear_forecast = linear_model.predict(x)\n",
        "  prediction21 = linear_model.predict(np.array([[228.565, 223.433, 235.319]]))\n",
        "  linear_forecast = np.append(linear_forecast, prediction21, axis = 0)\n",
        "\n",
        "  for i in range(3):\n",
        "    linear_forecast = np.insert(linear_forecast, 0, 400, axis = 0)      #Adding constant values so it gets easier to plot, these 400 don't represent anything\n",
        "\n",
        "  models_info['Linear Regression']['RMSE'] = linear_rmse\n",
        "  models_info['Linear Regression']['Forecast 2021'] = prediction21\n",
        "\n",
        "  models_score = (pd.DataFrame(models_info)).T #Save the diciontary as a Dataframe and transpose it\n",
        "\n",
        "  data = data['Total']\n",
        "\n",
        "  return ets_model, ets_test, ets_rmse, ets_forecast, ar_model, ar_test, ar_rmse, ar_forecast, models_score, linear_model, linear_test, linear_rmse, linear_forecast, models_score  #Models results\n",
        "\n",
        "ets_model, ets_test, ets_rmse, ets_forecast, ar_model, ar_test, ar_rmse, ar_forecast, models_score, linear_model, linear_test, linear_rmse, linear_forecast, models_score = fit_models(ts) "
      ],
      "metadata": {
        "id": "XXIj3S76Vpyp"
      },
      "execution_count": 79,
      "outputs": []
    },
    {
      "cell_type": "markdown",
      "source": [
        "As seen in the upper cell, both the training task and the test were defined within a single function, which also covers everything related to creating the testing, traning sets, the evaluation of the models and the creation of forecasts. \n",
        "\n",
        "Although the previous function presents comments detailing the objectives of each line, it is necessary to make a brief description of it; in order to leave no doubts about it.\n",
        "\n",
        "The first part of the function is focused on importing all libraries and elements necessary to create and evaluate the models, these being belonging to the module of* StatsModels* and *Sklearn*.\n",
        "\n",
        "After this section is the declaration of a dictionary, which has the sole purpose of being able to store the information to be compared of the models, this being the RMSE.\n",
        "\n",
        "Having declared the above elements it is possible to proceed with the cornerstone of the model, which is the training of the same. First, the time series data is separated to create a training set and a testing set. In this case, we opted for a distribution of 80% of the data for training and 20% for testing.\n",
        "\n",
        "Starting from the training set, the exponential smoothing model is created, which adjusts to the training data. Having created the model, forecasts of the years present in the test set are generated, and with these the RMSE is calculated. \n",
        "\n",
        "Also, a forecast of all the original data is created from the model, plus the forecast for 2021, so that later it is possible to visualize this data. Finally, the RMSE and prediction for 2021 is contained in the dictionary. This same process is repeated for the auto regressive model,and the linear regression modeol; storing the results in another set of variables.\n",
        "\n",
        "It is essential to note that, for the creation of the regression model it was necessary to perform a process of feature engineering, creating another set of features from the '*Total*'.\n",
        "\n",
        "In the final part of the function the dictionary is transformed into a dataframe, and all the values and forecasts, as well as the dictionary, that were elaborated within it are returned."
      ],
      "metadata": {
        "id": "p_z5N5zWV0nS"
      }
    },
    {
      "cell_type": "markdown",
      "source": [
        "**Model results I**"
      ],
      "metadata": {
        "id": "Ss5fjxYIWheG"
      }
    },
    {
      "cell_type": "markdown",
      "source": [
        "As can be seen in the table below, the model with the lowest RMSE was the self-regression model, with a value of 5.44 . In second place is the linear regression model, which obtained an RMSE of 7.57. Finally, the exponential smoothing model was placed as the worst model, presenting the largest RMSE among the first three models created. As for the forecasts of each model, both the regression model and the exponential smoothing model predict a higher consumption than in 2020, these being 221 billion cigarettes and 257 billion cigarettes; respectively. On the other hand, the best model, the auto regression, forecasts a consumption of 215 billion cigarettes in 2021."
      ],
      "metadata": {
        "id": "z-kVf4k3WtkM"
      }
    },
    {
      "cell_type": "code",
      "source": [
        "models_score"
      ],
      "metadata": {
        "id": "k0rRvjH_Wpqs",
        "colab": {
          "base_uri": "https://localhost:8080/",
          "height": 143
        },
        "outputId": "13bded7f-007c-4da1-8b81-1244640d6092"
      },
      "execution_count": 80,
      "outputs": [
        {
          "output_type": "execute_result",
          "data": {
            "text/html": [
              "\n",
              "  <div id=\"df-bf13dd19-e6e6-4c54-b7fa-364afd7e181a\">\n",
              "    <div class=\"colab-df-container\">\n",
              "      <div>\n",
              "<style scoped>\n",
              "    .dataframe tbody tr th:only-of-type {\n",
              "        vertical-align: middle;\n",
              "    }\n",
              "\n",
              "    .dataframe tbody tr th {\n",
              "        vertical-align: top;\n",
              "    }\n",
              "\n",
              "    .dataframe thead th {\n",
              "        text-align: right;\n",
              "    }\n",
              "</style>\n",
              "<table border=\"1\" class=\"dataframe\">\n",
              "  <thead>\n",
              "    <tr style=\"text-align: right;\">\n",
              "      <th></th>\n",
              "      <th>RMSE</th>\n",
              "      <th>Forecast 2021</th>\n",
              "    </tr>\n",
              "  </thead>\n",
              "  <tbody>\n",
              "    <tr>\n",
              "      <th>ETS</th>\n",
              "      <td>25.436547</td>\n",
              "      <td>257.455081</td>\n",
              "    </tr>\n",
              "    <tr>\n",
              "      <th>Auto Regression</th>\n",
              "      <td>5.441698</td>\n",
              "      <td>215.691675</td>\n",
              "    </tr>\n",
              "    <tr>\n",
              "      <th>Linear Regression</th>\n",
              "      <td>7.571524</td>\n",
              "      <td>[221.8343311860808]</td>\n",
              "    </tr>\n",
              "  </tbody>\n",
              "</table>\n",
              "</div>\n",
              "      <button class=\"colab-df-convert\" onclick=\"convertToInteractive('df-bf13dd19-e6e6-4c54-b7fa-364afd7e181a')\"\n",
              "              title=\"Convert this dataframe to an interactive table.\"\n",
              "              style=\"display:none;\">\n",
              "        \n",
              "  <svg xmlns=\"http://www.w3.org/2000/svg\" height=\"24px\"viewBox=\"0 0 24 24\"\n",
              "       width=\"24px\">\n",
              "    <path d=\"M0 0h24v24H0V0z\" fill=\"none\"/>\n",
              "    <path d=\"M18.56 5.44l.94 2.06.94-2.06 2.06-.94-2.06-.94-.94-2.06-.94 2.06-2.06.94zm-11 1L8.5 8.5l.94-2.06 2.06-.94-2.06-.94L8.5 2.5l-.94 2.06-2.06.94zm10 10l.94 2.06.94-2.06 2.06-.94-2.06-.94-.94-2.06-.94 2.06-2.06.94z\"/><path d=\"M17.41 7.96l-1.37-1.37c-.4-.4-.92-.59-1.43-.59-.52 0-1.04.2-1.43.59L10.3 9.45l-7.72 7.72c-.78.78-.78 2.05 0 2.83L4 21.41c.39.39.9.59 1.41.59.51 0 1.02-.2 1.41-.59l7.78-7.78 2.81-2.81c.8-.78.8-2.07 0-2.86zM5.41 20L4 18.59l7.72-7.72 1.47 1.35L5.41 20z\"/>\n",
              "  </svg>\n",
              "      </button>\n",
              "      \n",
              "  <style>\n",
              "    .colab-df-container {\n",
              "      display:flex;\n",
              "      flex-wrap:wrap;\n",
              "      gap: 12px;\n",
              "    }\n",
              "\n",
              "    .colab-df-convert {\n",
              "      background-color: #E8F0FE;\n",
              "      border: none;\n",
              "      border-radius: 50%;\n",
              "      cursor: pointer;\n",
              "      display: none;\n",
              "      fill: #1967D2;\n",
              "      height: 32px;\n",
              "      padding: 0 0 0 0;\n",
              "      width: 32px;\n",
              "    }\n",
              "\n",
              "    .colab-df-convert:hover {\n",
              "      background-color: #E2EBFA;\n",
              "      box-shadow: 0px 1px 2px rgba(60, 64, 67, 0.3), 0px 1px 3px 1px rgba(60, 64, 67, 0.15);\n",
              "      fill: #174EA6;\n",
              "    }\n",
              "\n",
              "    [theme=dark] .colab-df-convert {\n",
              "      background-color: #3B4455;\n",
              "      fill: #D2E3FC;\n",
              "    }\n",
              "\n",
              "    [theme=dark] .colab-df-convert:hover {\n",
              "      background-color: #434B5C;\n",
              "      box-shadow: 0px 1px 3px 1px rgba(0, 0, 0, 0.15);\n",
              "      filter: drop-shadow(0px 1px 2px rgba(0, 0, 0, 0.3));\n",
              "      fill: #FFFFFF;\n",
              "    }\n",
              "  </style>\n",
              "\n",
              "      <script>\n",
              "        const buttonEl =\n",
              "          document.querySelector('#df-bf13dd19-e6e6-4c54-b7fa-364afd7e181a button.colab-df-convert');\n",
              "        buttonEl.style.display =\n",
              "          google.colab.kernel.accessAllowed ? 'block' : 'none';\n",
              "\n",
              "        async function convertToInteractive(key) {\n",
              "          const element = document.querySelector('#df-bf13dd19-e6e6-4c54-b7fa-364afd7e181a');\n",
              "          const dataTable =\n",
              "            await google.colab.kernel.invokeFunction('convertToInteractive',\n",
              "                                                     [key], {});\n",
              "          if (!dataTable) return;\n",
              "\n",
              "          const docLinkHtml = 'Like what you see? Visit the ' +\n",
              "            '<a target=\"_blank\" href=https://colab.research.google.com/notebooks/data_table.ipynb>data table notebook</a>'\n",
              "            + ' to learn more about interactive tables.';\n",
              "          element.innerHTML = '';\n",
              "          dataTable['output_type'] = 'display_data';\n",
              "          await google.colab.output.renderOutput(dataTable, element);\n",
              "          const docLink = document.createElement('div');\n",
              "          docLink.innerHTML = docLinkHtml;\n",
              "          element.appendChild(docLink);\n",
              "        }\n",
              "      </script>\n",
              "    </div>\n",
              "  </div>\n",
              "  "
            ],
            "text/plain": [
              "                        RMSE        Forecast 2021\n",
              "ETS                25.436547           257.455081\n",
              "Auto Regression     5.441698           215.691675\n",
              "Linear Regression   7.571524  [221.8343311860808]"
            ]
          },
          "metadata": {},
          "execution_count": 80
        }
      ]
    },
    {
      "cell_type": "markdown",
      "source": [
        "**Model creation II**"
      ],
      "metadata": {
        "id": "AI27m5yeimby"
      }
    },
    {
      "cell_type": "markdown",
      "source": [
        "We first convert all our data to cigarettes.\n",
        "\n",
        "To do this, we obtain how many pounds are equivalent to a cigarette."
      ],
      "metadata": {
        "id": "11NGhfHhq41g"
      }
    },
    {
      "cell_type": "code",
      "source": [
        "cig_eq = data[(data.Measure == 'Loose Tobacco') & (data.Submeasure == 'Pipe Tobacco') & \n",
        "     (data['Data Value Unit']=='Cigarette Equivalents')].Total.values\n",
        "pounds = data[(data.Measure == 'Loose Tobacco') & (data.Submeasure == 'Pipe Tobacco') & \n",
        "     (data['Data Value Unit']=='Pounds')].Total.values\n",
        "cig_per_pound = (cig_eq/pounds).mean()"
      ],
      "metadata": {
        "id": "LS7eyXs2rRz0"
      },
      "execution_count": 81,
      "outputs": []
    },
    {
      "cell_type": "markdown",
      "source": [
        "We delete the soon-to-be repeated entries."
      ],
      "metadata": {
        "id": "D0nwcCVzs1DX"
      }
    },
    {
      "cell_type": "code",
      "source": [
        "data = data[~(((data['Submeasure']=='Pipe Tobacco') | (data['Submeasure']=='Roll-Your-Own Tobacco')) & (data['Data Value Unit']=='Cigarette Equivalents'))]\n",
        "data = data.reset_index(drop=True)"
      ],
      "metadata": {
        "id": "-MgKim1Zs5xr"
      },
      "execution_count": 82,
      "outputs": []
    },
    {
      "cell_type": "markdown",
      "source": [
        "We convert the units."
      ],
      "metadata": {
        "id": "VRYXDuCnriY0"
      }
    },
    {
      "cell_type": "code",
      "source": [
        "data.insert(len(data.columns),'Sales', data['Total'].where(data['Data Value Unit'] != 'Pounds', data['Total']*cig_per_pound))"
      ],
      "metadata": {
        "id": "PfwUpl7artiz"
      },
      "execution_count": 83,
      "outputs": []
    },
    {
      "cell_type": "markdown",
      "source": [
        "Irrelevant columns were dropped."
      ],
      "metadata": {
        "id": "l9X6sTFIqOYz"
      }
    },
    {
      "cell_type": "code",
      "source": [
        "data = data.drop(columns=['Domestic', 'Imports', 'Total', 'Domestic Per Capita', 'Imports Per Capita', 'Total Per Capita', 'Data Value Unit', 'Topic'])"
      ],
      "metadata": {
        "id": "_wVcL2WpqT2i"
      },
      "execution_count": 84,
      "outputs": []
    },
    {
      "cell_type": "markdown",
      "source": [
        "Our second approach was to use regression models instead.\n",
        "\n",
        "To better gauge the performance of our model through RMSE, we create a normalized version of our dataframe."
      ],
      "metadata": {
        "id": "d9JhQYgEkOD4"
      }
    },
    {
      "cell_type": "code",
      "source": [
        "salesmin = data.Sales.min()\n",
        "salesmax = data.Sales.max()\n",
        "ndata = data.copy()\n",
        "ndata['Sales'] = (data.Sales - salesmin)/(salesmax-salesmin)"
      ],
      "metadata": {
        "id": "Yb_Tqx-ZlvPo"
      },
      "execution_count": 85,
      "outputs": []
    },
    {
      "cell_type": "code",
      "source": [
        "from sklearn.metrics import mean_squared_error, r2_score"
      ],
      "metadata": {
        "id": "9zFXdscmo5TZ"
      },
      "execution_count": 86,
      "outputs": []
    },
    {
      "cell_type": "code",
      "source": [
        "data.Sales"
      ],
      "metadata": {
        "id": "AwtaUbs0tNV7",
        "colab": {
          "base_uri": "https://localhost:8080/"
        },
        "outputId": "5555c93b-1a3c-4c39-f10b-ab0f612afd06"
      },
      "execution_count": 87,
      "outputs": [
        {
          "output_type": "execute_result",
          "data": {
            "text/plain": [
              "0      2.244634e+10\n",
              "1      4.355700e+11\n",
              "2      2.279184e+09\n",
              "3      2.999419e+09\n",
              "4      5.994599e+09\n",
              "           ...     \n",
              "142    2.751665e+08\n",
              "143    1.487963e+10\n",
              "144    9.486183e+08\n",
              "145    7.737877e+09\n",
              "146    5.826938e+10\n",
              "Name: Sales, Length: 147, dtype: float64"
            ]
          },
          "metadata": {},
          "execution_count": 87
        }
      ]
    },
    {
      "cell_type": "markdown",
      "source": [
        "In order to improve our model, we first needed to do some feature engineering. "
      ],
      "metadata": {
        "id": "DNJtfP0llikX"
      }
    },
    {
      "cell_type": "code",
      "source": [
        "dflist = [data, ndata]\n",
        "for i in range(2):\n",
        "  # Sales for each measure in the last year\n",
        "  measure_sum = dflist[i].groupby(['Year', 'Measure'])['Sales'].sum()\n",
        "  dflist[i] = dflist[i].set_index(['Year', 'Measure']).join(measure_sum, how='left', rsuffix = '_new').reset_index().rename(columns={'Sales_new': 'Past_Measure_Sales'})\n",
        "  dflist[i]['Past_Measure_Sales'] = np.hstack((np.zeros(7), dflist[i]['Past_Measure_Sales'][dflist[i].Year<2020].values))\n",
        "  # Total sales in the last year\n",
        "  year_sum = dflist[i].groupby(['Year'])['Sales'].sum()\n",
        "  dflist[i] = dflist[i].set_index(['Year']).join(year_sum, how='left', rsuffix = '_new').reset_index().rename(columns={'Sales_new': 'Past_Total_Sales'})\n",
        "  # Change in sales of each submeasure during the last two years\n",
        "  year_shift1 = np.hstack((np.zeros(7), dflist[i].Sales[dflist[i].Year<2020]))\n",
        "  year_shift2 = np.hstack((np.zeros(14), dflist[i].Sales[dflist[i].Year<2019]))\n",
        "  dflist[i]['Past_Sales_Shift'] = year_shift1 - year_shift2\n",
        "  # Change in population during the last two years\n",
        "  pop_shift1 = np.hstack((np.zeros(7), dflist[i].Sales[dflist[i].Year<2020]))\n",
        "  pop_shift2 = np.hstack((np.zeros(14), dflist[i].Sales[dflist[i].Year<2019]))\n",
        "  dflist[i]['Past_Pop_Shift'] = pop_shift1 - pop_shift2\n",
        "  dflist[i] = dflist[i][dflist[i].Year>2001].reset_index(drop=True)\n",
        "  dflist[i] = dflist[i].drop(columns='Population')\n",
        "  # We convert categorical data\n",
        "  dflist[i] = pd.get_dummies(dflist[i], columns=['Measure', 'Submeasure'])\n",
        "\n",
        "  if i == 0:  \n",
        "    data = dflist[i].copy()\n",
        "  else:\n",
        "    ndata = dflist[i].copy()"
      ],
      "metadata": {
        "id": "IPxk89iwmGTp"
      },
      "execution_count": 88,
      "outputs": []
    },
    {
      "cell_type": "markdown",
      "source": [
        "In order to validate our models we need to first split our data"
      ],
      "metadata": {
        "id": "iILh4kzjoP1P"
      }
    },
    {
      "cell_type": "code",
      "source": [
        "val_train = data[data.Year<2020]\n",
        "val_test = data[data.Year==2020]\n",
        "\n",
        "nval_train = ndata[ndata.Year<2020]\n",
        "nval_test = ndata[ndata.Year==2020]"
      ],
      "metadata": {
        "id": "fqN9UJ-5oaaV"
      },
      "execution_count": 89,
      "outputs": []
    },
    {
      "cell_type": "code",
      "source": [
        "X_train = val_train.drop(columns=['Sales'])\n",
        "X_test = val_test.drop(columns=['Sales'])\n",
        "y_train = val_train['Sales']\n",
        "y_test = val_test['Sales']\n",
        "\n",
        "nX_train = nval_train.drop(columns=['Sales'])\n",
        "nX_test = nval_test.drop(columns=['Sales'])\n",
        "ny_train = nval_train['Sales']\n",
        "ny_test = nval_test['Sales']"
      ],
      "metadata": {
        "id": "zEMO7ZFNofkE"
      },
      "execution_count": 90,
      "outputs": []
    },
    {
      "cell_type": "markdown",
      "source": [
        "We first create a model using decision trees"
      ],
      "metadata": {
        "id": "vM2ebQsfotdc"
      }
    },
    {
      "cell_type": "code",
      "source": [
        "from sklearn.tree import DecisionTreeRegressor\n",
        "dtr = DecisionTreeRegressor(max_depth=None, min_weight_fraction_leaf=0, min_samples_split=2, random_state=0)\n",
        "dtr.fit(nX_train, ny_train)\n",
        "dtr_pred = dtr.predict(nX_test)\n",
        "dtr_score = r2_score(ny_test, dtr_pred)\n",
        "dtr_rmse = mean_squared_error(ny_test, dtr_pred, squared=False)"
      ],
      "metadata": {
        "id": "RFbijtOPo88V"
      },
      "execution_count": 91,
      "outputs": []
    },
    {
      "cell_type": "markdown",
      "source": [
        "Secondly, we use k-nearest neighbors"
      ],
      "metadata": {
        "id": "KV2yKPZtpMuu"
      }
    },
    {
      "cell_type": "code",
      "source": [
        "from sklearn.neighbors import KNeighborsRegressor\n",
        "knr = KNeighborsRegressor(n_neighbors=4, weights='distance', algorithm='auto', metric='chebyshev', n_jobs=-1)\n",
        "knr.fit(nX_train, ny_train)\n",
        "knr_pred = knr.predict(nX_test)\n",
        "knr_rmse = mean_squared_error(ny_test, knr_pred, squared=False)\n",
        "\n",
        "knr = KNeighborsRegressor(n_neighbors=4, weights='distance', algorithm='auto', metric='chebyshev', n_jobs=-1)\n",
        "knr.fit(X_train, y_train)\n",
        "knr_pred = knr.predict(X_test)\n",
        "knr_score = r2_score(y_test, knr_pred)"
      ],
      "metadata": {
        "id": "k-JgPN4DpRMT"
      },
      "execution_count": 92,
      "outputs": []
    },
    {
      "cell_type": "markdown",
      "source": [
        "Lastly, we display their scores"
      ],
      "metadata": {
        "id": "NILTd9NapT1S"
      }
    },
    {
      "cell_type": "code",
      "source": [
        "print(\"DT R2: {}\".format(dtr_score))\n",
        "print(\"DT RMSE: {}\".format(dtr_rmse))\n",
        "print(\"kNN R2: {}\".format(knr_score))\n",
        "print(\"kNN RMSE: {}\".format(dtr_rmse))"
      ],
      "metadata": {
        "id": "DNAMB8cypYOj",
        "colab": {
          "base_uri": "https://localhost:8080/"
        },
        "outputId": "2b682291-1eb8-4fa3-f79c-93aa576cde28"
      },
      "execution_count": 93,
      "outputs": [
        {
          "output_type": "stream",
          "name": "stdout",
          "text": [
            "DT R2: 0.9989657443565115\n",
            "DT RMSE: 0.005662874140338339\n",
            "kNN R2: 0.9618846401411872\n",
            "kNN RMSE: 0.005662874140338339\n"
          ]
        }
      ]
    },
    {
      "cell_type": "markdown",
      "source": [
        "## **Visualization**\n",
        "\n",
        "---\n",
        "\n"
      ],
      "metadata": {
        "id": "2yy18BWkM1IS"
      }
    },
    {
      "cell_type": "code",
      "source": [
        "plt.figure(figsize = (15,5), dpi = 100)\n",
        "plt.plot(ets_forecast, color = 'forestgreen' )\n",
        "plt.plot(ar_forecast, color = 'firebrick')\n",
        "plt.plot(linear_forecast, color = 'darkorange')\n",
        "plt.plot(ts['Total'].values, color = 'royalblue')\n",
        "plt.gca().set(title = 'Cigarettes Total Consumption Forecasting Models I', \n",
        "              xlabel = 'Year (20--)',\n",
        "              ylabel = 'Cigarettes (Billions)')\n",
        "plt.legend(['ETS Model', 'AR Model', 'Linear Regression Model', 'Real Consumption'])\n",
        "plt.grid(True)\n",
        "plt.show()"
      ],
      "metadata": {
        "id": "KQudmC52Tehr",
        "colab": {
          "base_uri": "https://localhost:8080/",
          "height": 480
        },
        "outputId": "22bee87d-2481-4682-990f-2a225e816aef"
      },
      "execution_count": 94,
      "outputs": [
        {
          "output_type": "display_data",
          "data": {
            "image/png": "[encoded data removed]",
            "text/plain": [
              "<Figure size 1500x500 with 1 Axes>"
            ]
          },
          "metadata": {
            "needs_background": "light"
          }
        }
      ]
    },
    {
      "cell_type": "markdown",
      "source": [
        "## **Conclusions**\n",
        "\n",
        "---\n",
        "\n"
      ],
      "metadata": {
        "id": "aHtWYdJJM4lu"
      }
    },
    {
      "cell_type": "markdown",
      "source": [
        "Based on the previous procedures, as well as the results obtained through the visualization of the original data and the application of the model, it is possible to make some pertinent conclusions:\n",
        "\n",
        "\n",
        "1.   **Change in the distribution of consumption of domestic and imported products:**  In general, it is not possible to observe a clear increase or decrease in the percentage of products consumed in the United States that are imported. However, there is an exception to this situation, as can be observed in the \"Total Domestic and Imported Tobacco Products\" chart of cigars, which highlights an increase in the number of cigars that are imported over the years. Therefore, there is a trend of increase in imported cigars, which begin to represent more than 50% of the cigars consumed.\n",
        "\n",
        "2.   **Cigarette consumption is declining in the United States:** As indicated in the graph 'Total Domestic and Imported Tobacco Products' for Cigarettes and 'Cigarettes Total Consumption in the U.S. from 2000 to 2020', as well as in the preparation of the forecast for 2021, cigarette consumption has been decreasing over the years. However, this highlight of the fall can be explained by multiple factors, such as the increase in cigarette prices and taxes, campaigns against smoking, laws for tobacco-free spaces, as well as the distribution of information related to the effects of smoking (American Heart Association, 2018). Likewise, this decline can be explained by the increase in popularity of other products, such as electric cigarettes (American Heart Association, 2018), or other products containing tobacco.\n",
        "\n",
        "3. **Nevertheless, cigarettes remain as the most consumed tobacco product:**Despite the decrease in consumption, the cigarette remains positioned as the most consumed tobacco product among those considered in this report. This claim is supported by the article \"Cigarette Smoking Among U.S. Adults Hits All-Time Low\", which states that the cigar represented 13.7% of tobacco products in 2018 (Centers for Disease Control and Prevention, 2019).\n",
        "\n",
        "4. **The forecast for 2021 cigarette consumption:** Based on the auto-regression model, which presented the lowest RMSE, it is possible to predict a consumption of 215.70 billion cigarettes in 2021; thus respecting the decrease that was visualized from the data used. However, considering the second best model developed, the forecast from a linear regression is 221.83 billion cigarettes; this is a forecast whose value also follows the negative trend of consumption, but which reflects a smaller decrease. In any case, due to the RMSE scores, both values could be considered to be within the confidence interval.\n"
      ],
      "metadata": {
        "id": "mbELS0yEZiKE"
      }
    },
    {
      "cell_type": "markdown",
      "source": [
        "## **References**\n",
        "\n",
        "---\n",
        "American Heart Association. (2018). *Smoking in America: Why more Americans are kicking the habit*, from https://www.heart.org/en/news/2018/08/29/smoking-in-america-why-more-americans-are-kicking-the-habit\n",
        "\n",
        "Centers for Disease Control and Prevention. (2019). *Cigarette Smoking Among U.S. Adults Hits All-Time Low*, from https://www.cdc.gov/media/releases/2019/p1114-smoking-low.html#:~:text=Cigarette%20smoking%20among%20U.S.%20adults%20has%20reached%20an%20all%2Dtime,the%20health%20consequences%20of%20smoking.\n"
      ],
      "metadata": {
        "id": "P7Dm9RLgejDD"
      }
    }
  ]
}